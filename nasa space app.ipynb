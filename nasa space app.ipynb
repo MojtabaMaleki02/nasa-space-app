{
 "cells": [
  {
   "cell_type": "code",
   "execution_count": 1,
   "id": "f8361625-8e26-45f6-ae17-112eeacbe823",
   "metadata": {},
   "outputs": [],
   "source": [
    "# Import libraries\n",
    "import numpy as np\n",
    "import pandas as pd\n",
    "from obspy import read\n",
    "from datetime import datetime\n",
    "import matplotlib.pyplot as plt\n",
    "import os"
   ]
  },
  {
   "cell_type": "code",
   "execution_count": 2,
   "id": "f3d1ec56-afa9-4162-9379-311f1954a6e1",
   "metadata": {},
   "outputs": [],
   "source": [
    "# Create a directory for output files\n",
    "output_directory = 'NASA Space App'\n",
    "os.makedirs(output_directory, exist_ok=True)  # Create the directory if it doesn't exist"
   ]
  },
  {
   "cell_type": "code",
   "execution_count": 3,
   "id": "a79dbbb9-f00d-439e-8207-9cd554fbd1c8",
   "metadata": {},
   "outputs": [],
   "source": [
    "# Function to apply FFT and plot the results\n",
    "def apply_fft_and_plot(data, time_data, filename):\n",
    "    # Apply a window function to the data (Hanning window)\n",
    "    window = np.hanning(len(data))\n",
    "    windowed_data = data * window\n",
    "\n",
    "    # Apply FFT\n",
    "    fft_data = np.fft.fft(windowed_data)\n",
    "    fft_freq = np.fft.fftfreq(len(windowed_data), d=np.mean(np.diff(time_data)))\n",
    "\n",
    "    # Only take the positive frequencies\n",
    "    pos_mask = fft_freq >= 0\n",
    "    fft_data = np.abs(fft_data[pos_mask]) / len(data)  # Normalize by length\n",
    "    fft_freq = fft_freq[pos_mask]\n",
    "\n",
    "    # Plotting the FFT result\n",
    "    plt.figure(figsize=(10, 5))\n",
    "    plt.plot(fft_freq, fft_data, color='blue')\n",
    "    plt.title(f'FFT of {filename}', fontweight='bold')\n",
    "    plt.xlabel('Frequency (Hz)')\n",
    "    plt.ylabel('Magnitude (Normalized)')\n",
    "    plt.grid()\n",
    "    plt.xlim(0, np.max(fft_freq))\n",
    "    plt.ylim(0, np.max(fft_data) * 1.1)\n",
    "    plt.savefig(os.path.join(output_directory, f'fft_{filename}.png'), bbox_inches='tight')  # Save to file\n",
    "    plt.close()  # Close the plot to free memory"
   ]
  },
  {
   "cell_type": "code",
   "execution_count": 4,
   "id": "88623fbe-374d-4220-a12e-8e85fc95095b",
   "metadata": {},
   "outputs": [],
   "source": [
    "# Load the seismic event catalog\n",
    "cat_directory = os.path.join('.', 'data', 'lunar', 'training', 'catalogs')\n",
    "cat_file = os.path.join(cat_directory, 'apollo12_catalog_GradeA_final.csv')\n",
    "\n",
    "# Check if the catalog file exists\n",
    "if not os.path.exists(cat_file):\n",
    "    print(f\"Catalog file does not exist: {cat_file}\")\n",
    "else:\n",
    "    cat = pd.read_csv(cat_file)\n",
    "\n",
    "    # Use only the first 5 seismic events for quick analysis\n",
    "    sample_cat = cat.head(5)\n",
    "\n",
    "    for index, row in sample_cat.iterrows():\n",
    "        arrival_time = datetime.strptime(row['time_abs(%Y-%m-%dT%H:%M:%S.%f)'], '%Y-%m-%dT%H:%M:%S.%f')\n",
    "        arrival_time_rel = row['time_rel(sec)']\n",
    "        test_filename = row.filename\n",
    "\n",
    "        # Load the corresponding data\n",
    "        data_directory = os.path.join('.', 'data', 'lunar', 'training', 'data', 'S12_GradeA')\n",
    "        csv_file = os.path.join(data_directory, f'{test_filename}.csv')\n",
    "\n",
    "        # Check if the data file exists\n",
    "        if not os.path.exists(csv_file):\n",
    "            print(f\"Data file does not exist: {csv_file}\")\n",
    "            continue  # Skip to the next iteration if the file doesn't exist\n",
    "\n",
    "        data_cat = pd.read_csv(csv_file)\n",
    "\n",
    "        # Read in time steps and velocities\n",
    "        csv_times = np.array(data_cat['time_rel(sec)'].tolist())\n",
    "        csv_data = np.array(data_cat['velocity(m/s)'].tolist())\n",
    "\n",
    "        # Plot the seismic data\n",
    "        plt.figure(figsize=(10, 3))\n",
    "        plt.plot(csv_times, csv_data, color='lightblue', label='Velocity Data')\n",
    "        plt.axvline(x=arrival_time_rel, c='red', label='', linestyle='--')\n",
    "        plt.xlim([min(csv_times), max(csv_times)])\n",
    "        plt.ylabel('Velocity (m/s)')\n",
    "        plt.xlabel('Time (s)')\n",
    "        plt.title(\"Safe Wave's Result\", fontweight='bold')\n",
    "        plt.legend()\n",
    "        plt.grid(False)  # Disable the grid for a simple background\n",
    "        plt.savefig(os.path.join(output_directory, f'seismic_{test_filename}.png'), bbox_inches='tight')  # Save to file\n",
    "        plt.close()  # Close the plot to free memory\n",
    "\n",
    "        # Apply FFT and plot the result\n",
    "        apply_fft_and_plot(csv_data, csv_times, test_filename)\n"
   ]
  },
  {
   "cell_type": "code",
   "execution_count": null,
   "id": "12a9386e-0c0f-4cd5-a479-ef426b79e820",
   "metadata": {},
   "outputs": [],
   "source": []
  },
  {
   "cell_type": "code",
   "execution_count": null,
   "id": "9de61a0b-982b-4c32-a604-64706de38255",
   "metadata": {},
   "outputs": [],
   "source": []
  },
  {
   "cell_type": "code",
   "execution_count": null,
   "id": "0201551e-be84-4047-aea1-c35ea9fe537a",
   "metadata": {},
   "outputs": [],
   "source": []
  },
  {
   "cell_type": "code",
   "execution_count": null,
   "id": "75627b0c-8043-4835-9ce2-ec27c42c7251",
   "metadata": {},
   "outputs": [],
   "source": []
  }
 ],
 "metadata": {
  "kernelspec": {
   "display_name": "Python 3 (ipykernel)",
   "language": "python",
   "name": "python3"
  },
  "language_info": {
   "codemirror_mode": {
    "name": "ipython",
    "version": 3
   },
   "file_extension": ".py",
   "mimetype": "text/x-python",
   "name": "python",
   "nbconvert_exporter": "python",
   "pygments_lexer": "ipython3",
   "version": "3.12.4"
  }
 },
 "nbformat": 4,
 "nbformat_minor": 5
}
